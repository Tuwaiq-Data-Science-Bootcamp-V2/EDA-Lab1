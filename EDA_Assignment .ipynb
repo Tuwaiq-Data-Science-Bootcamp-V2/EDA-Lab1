{
 "cells": [
  {
   "cell_type": "markdown",
   "id": "through-estimate",
   "metadata": {},
   "source": [
    "### Choose a dataset to Visulaize\n",
    "* Import needed libraries \n",
    "* Load your dataset"
   ]
  },
  {
   "cell_type": "code",
   "execution_count": 36,
   "id": "objective-zealand",
   "metadata": {},
   "outputs": [],
   "source": [
    "import pandas as pd\n",
    "import numpy as np\n",
    "import seaborn as sns\n",
    "import matplotlib.pyplot as plt"
   ]
  },
  {
   "cell_type": "code",
   "execution_count": 3,
   "id": "nonprofit-arrow",
   "metadata": {},
   "outputs": [
    {
     "data": {
      "text/html": [
       "<div>\n",
       "<style scoped>\n",
       "    .dataframe tbody tr th:only-of-type {\n",
       "        vertical-align: middle;\n",
       "    }\n",
       "\n",
       "    .dataframe tbody tr th {\n",
       "        vertical-align: top;\n",
       "    }\n",
       "\n",
       "    .dataframe thead th {\n",
       "        text-align: right;\n",
       "    }\n",
       "</style>\n",
       "<table border=\"1\" class=\"dataframe\">\n",
       "  <thead>\n",
       "    <tr style=\"text-align: right;\">\n",
       "      <th></th>\n",
       "      <th>Employee_Name</th>\n",
       "      <th>EmpID</th>\n",
       "      <th>Salary</th>\n",
       "      <th>PositionID</th>\n",
       "      <th>Position</th>\n",
       "      <th>DOB</th>\n",
       "      <th>Sex</th>\n",
       "      <th>MaritalDesc</th>\n",
       "      <th>RaceDesc</th>\n",
       "      <th>DateofHire</th>\n",
       "      <th>DateofTermination</th>\n",
       "      <th>Department</th>\n",
       "      <th>ManagerName</th>\n",
       "      <th>ManagerID</th>\n",
       "      <th>RecruitmentSource</th>\n",
       "      <th>Absences</th>\n",
       "    </tr>\n",
       "  </thead>\n",
       "  <tbody>\n",
       "    <tr>\n",
       "      <th>0</th>\n",
       "      <td>Adinolfi, Wilson  K</td>\n",
       "      <td>10026</td>\n",
       "      <td>62506.0</td>\n",
       "      <td>19</td>\n",
       "      <td>Production Technician I</td>\n",
       "      <td>07/10/83</td>\n",
       "      <td>M</td>\n",
       "      <td>Single</td>\n",
       "      <td>White</td>\n",
       "      <td>7/5/2011</td>\n",
       "      <td>NaN</td>\n",
       "      <td>Production</td>\n",
       "      <td>Michael Albert</td>\n",
       "      <td>22.0</td>\n",
       "      <td>LinkedIn</td>\n",
       "      <td>1.0</td>\n",
       "    </tr>\n",
       "    <tr>\n",
       "      <th>1</th>\n",
       "      <td>Ait Sidi, Karthikeyan</td>\n",
       "      <td>10084</td>\n",
       "      <td>104437.0</td>\n",
       "      <td>27</td>\n",
       "      <td>Sr. DBA</td>\n",
       "      <td>05/05/75</td>\n",
       "      <td>M</td>\n",
       "      <td>Married</td>\n",
       "      <td>White</td>\n",
       "      <td>3/30/2015</td>\n",
       "      <td>6/16/2016</td>\n",
       "      <td>IT/IS</td>\n",
       "      <td>Simon Roup</td>\n",
       "      <td>4.0</td>\n",
       "      <td>Indeed</td>\n",
       "      <td>17.0</td>\n",
       "    </tr>\n",
       "    <tr>\n",
       "      <th>2</th>\n",
       "      <td>Akinkuolie, Sarah</td>\n",
       "      <td>10196</td>\n",
       "      <td>64955.0</td>\n",
       "      <td>20</td>\n",
       "      <td>Production Technician II</td>\n",
       "      <td>09/19/88</td>\n",
       "      <td>F</td>\n",
       "      <td>Married</td>\n",
       "      <td>White</td>\n",
       "      <td>7/5/2011</td>\n",
       "      <td>9/24/2012</td>\n",
       "      <td>Production</td>\n",
       "      <td>Kissy Sullivan</td>\n",
       "      <td>20.0</td>\n",
       "      <td>LinkedIn</td>\n",
       "      <td>3.0</td>\n",
       "    </tr>\n",
       "    <tr>\n",
       "      <th>3</th>\n",
       "      <td>Alagbe,Trina</td>\n",
       "      <td>10088</td>\n",
       "      <td>64991.0</td>\n",
       "      <td>19</td>\n",
       "      <td>Production Technician I</td>\n",
       "      <td>NaN</td>\n",
       "      <td>F</td>\n",
       "      <td>Married</td>\n",
       "      <td>White</td>\n",
       "      <td>1/7/2008</td>\n",
       "      <td>NaN</td>\n",
       "      <td>Production</td>\n",
       "      <td>Elijiah Gray</td>\n",
       "      <td>16.0</td>\n",
       "      <td>Indeed</td>\n",
       "      <td>15.0</td>\n",
       "    </tr>\n",
       "    <tr>\n",
       "      <th>4</th>\n",
       "      <td>NaN</td>\n",
       "      <td>10069</td>\n",
       "      <td>50825.0</td>\n",
       "      <td>19</td>\n",
       "      <td>Production Technician I</td>\n",
       "      <td>09/08/89</td>\n",
       "      <td>F</td>\n",
       "      <td>Divorced</td>\n",
       "      <td>White</td>\n",
       "      <td>7/11/2011</td>\n",
       "      <td>9/6/2016</td>\n",
       "      <td>Production</td>\n",
       "      <td>Webster Butler</td>\n",
       "      <td>39.0</td>\n",
       "      <td>Google Search</td>\n",
       "      <td>2.0</td>\n",
       "    </tr>\n",
       "  </tbody>\n",
       "</table>\n",
       "</div>"
      ],
      "text/plain": [
       "              Employee_Name  EmpID    Salary  PositionID  \\\n",
       "0       Adinolfi, Wilson  K  10026   62506.0          19   \n",
       "1  Ait Sidi, Karthikeyan     10084  104437.0          27   \n",
       "2         Akinkuolie, Sarah  10196   64955.0          20   \n",
       "3              Alagbe,Trina  10088   64991.0          19   \n",
       "4                       NaN  10069   50825.0          19   \n",
       "\n",
       "                   Position       DOB Sex MaritalDesc RaceDesc DateofHire  \\\n",
       "0   Production Technician I  07/10/83  M       Single    White   7/5/2011   \n",
       "1                   Sr. DBA  05/05/75  M      Married    White  3/30/2015   \n",
       "2  Production Technician II  09/19/88   F     Married    White   7/5/2011   \n",
       "3   Production Technician I       NaN   F     Married    White   1/7/2008   \n",
       "4   Production Technician I  09/08/89   F    Divorced    White  7/11/2011   \n",
       "\n",
       "  DateofTermination         Department     ManagerName  ManagerID  \\\n",
       "0               NaN  Production         Michael Albert       22.0   \n",
       "1         6/16/2016              IT/IS      Simon Roup        4.0   \n",
       "2         9/24/2012  Production         Kissy Sullivan       20.0   \n",
       "3               NaN  Production           Elijiah Gray       16.0   \n",
       "4          9/6/2016  Production         Webster Butler       39.0   \n",
       "\n",
       "  RecruitmentSource  Absences  \n",
       "0          LinkedIn       1.0  \n",
       "1            Indeed      17.0  \n",
       "2          LinkedIn       3.0  \n",
       "3            Indeed      15.0  \n",
       "4     Google Search       2.0  "
      ]
     },
     "execution_count": 3,
     "metadata": {},
     "output_type": "execute_result"
    }
   ],
   "source": [
    "df = pd.read_csv('HR_Missing_Vslues.csv')\n",
    "df.head()"
   ]
  },
  {
   "cell_type": "code",
   "execution_count": 4,
   "id": "fe4f58fe",
   "metadata": {},
   "outputs": [
    {
     "data": {
      "text/html": [
       "<div>\n",
       "<style scoped>\n",
       "    .dataframe tbody tr th:only-of-type {\n",
       "        vertical-align: middle;\n",
       "    }\n",
       "\n",
       "    .dataframe tbody tr th {\n",
       "        vertical-align: top;\n",
       "    }\n",
       "\n",
       "    .dataframe thead th {\n",
       "        text-align: right;\n",
       "    }\n",
       "</style>\n",
       "<table border=\"1\" class=\"dataframe\">\n",
       "  <thead>\n",
       "    <tr style=\"text-align: right;\">\n",
       "      <th></th>\n",
       "      <th>count</th>\n",
       "      <th>mean</th>\n",
       "      <th>std</th>\n",
       "      <th>min</th>\n",
       "      <th>25%</th>\n",
       "      <th>50%</th>\n",
       "      <th>75%</th>\n",
       "      <th>max</th>\n",
       "    </tr>\n",
       "  </thead>\n",
       "  <tbody>\n",
       "    <tr>\n",
       "      <th>EmpID</th>\n",
       "      <td>311.0</td>\n",
       "      <td>10156.000000</td>\n",
       "      <td>89.922189</td>\n",
       "      <td>10001.0</td>\n",
       "      <td>10078.50</td>\n",
       "      <td>10156.0</td>\n",
       "      <td>10233.50</td>\n",
       "      <td>10311.0</td>\n",
       "    </tr>\n",
       "    <tr>\n",
       "      <th>Salary</th>\n",
       "      <td>249.0</td>\n",
       "      <td>67972.662651</td>\n",
       "      <td>22995.908395</td>\n",
       "      <td>45046.0</td>\n",
       "      <td>55315.00</td>\n",
       "      <td>62957.0</td>\n",
       "      <td>71707.00</td>\n",
       "      <td>220450.0</td>\n",
       "    </tr>\n",
       "    <tr>\n",
       "      <th>PositionID</th>\n",
       "      <td>311.0</td>\n",
       "      <td>16.845659</td>\n",
       "      <td>6.223419</td>\n",
       "      <td>1.0</td>\n",
       "      <td>18.00</td>\n",
       "      <td>19.0</td>\n",
       "      <td>20.00</td>\n",
       "      <td>30.0</td>\n",
       "    </tr>\n",
       "    <tr>\n",
       "      <th>ManagerID</th>\n",
       "      <td>303.0</td>\n",
       "      <td>14.570957</td>\n",
       "      <td>8.078306</td>\n",
       "      <td>1.0</td>\n",
       "      <td>10.00</td>\n",
       "      <td>15.0</td>\n",
       "      <td>19.00</td>\n",
       "      <td>39.0</td>\n",
       "    </tr>\n",
       "    <tr>\n",
       "      <th>Absences</th>\n",
       "      <td>280.0</td>\n",
       "      <td>10.128571</td>\n",
       "      <td>5.946407</td>\n",
       "      <td>1.0</td>\n",
       "      <td>4.75</td>\n",
       "      <td>10.0</td>\n",
       "      <td>15.25</td>\n",
       "      <td>20.0</td>\n",
       "    </tr>\n",
       "  </tbody>\n",
       "</table>\n",
       "</div>"
      ],
      "text/plain": [
       "            count          mean           std      min       25%      50%  \\\n",
       "EmpID       311.0  10156.000000     89.922189  10001.0  10078.50  10156.0   \n",
       "Salary      249.0  67972.662651  22995.908395  45046.0  55315.00  62957.0   \n",
       "PositionID  311.0     16.845659      6.223419      1.0     18.00     19.0   \n",
       "ManagerID   303.0     14.570957      8.078306      1.0     10.00     15.0   \n",
       "Absences    280.0     10.128571      5.946407      1.0      4.75     10.0   \n",
       "\n",
       "                 75%       max  \n",
       "EmpID       10233.50   10311.0  \n",
       "Salary      71707.00  220450.0  \n",
       "PositionID     20.00      30.0  \n",
       "ManagerID      19.00      39.0  \n",
       "Absences       15.25      20.0  "
      ]
     },
     "execution_count": 4,
     "metadata": {},
     "output_type": "execute_result"
    }
   ],
   "source": [
    "df.describe().T"
   ]
  },
  {
   "cell_type": "code",
   "execution_count": 60,
   "id": "d9448619",
   "metadata": {},
   "outputs": [
    {
     "name": "stdout",
     "output_type": "stream",
     "text": [
      "<class 'pandas.core.frame.DataFrame'>\n",
      "RangeIndex: 311 entries, 0 to 310\n",
      "Data columns (total 16 columns):\n",
      " #   Column             Non-Null Count  Dtype  \n",
      "---  ------             --------------  -----  \n",
      " 0   Employee_Name      218 non-null    object \n",
      " 1   EmpID              311 non-null    int64  \n",
      " 2   Salary             249 non-null    float64\n",
      " 3   PositionID         311 non-null    int64  \n",
      " 4   Position           311 non-null    object \n",
      " 5   DOB                280 non-null    object \n",
      " 6   Sex                249 non-null    object \n",
      " 7   MaritalDesc        311 non-null    object \n",
      " 8   RaceDesc           311 non-null    object \n",
      " 9   DateofHire         311 non-null    object \n",
      " 10  DateofTermination  104 non-null    object \n",
      " 11  Department         311 non-null    object \n",
      " 12  ManagerName        311 non-null    object \n",
      " 13  ManagerID          303 non-null    float64\n",
      " 14  RecruitmentSource  311 non-null    object \n",
      " 15  Absences           280 non-null    float64\n",
      "dtypes: float64(3), int64(2), object(11)\n",
      "memory usage: 39.0+ KB\n"
     ]
    }
   ],
   "source": [
    "df.info()"
   ]
  },
  {
   "cell_type": "code",
   "execution_count": 8,
   "id": "3a81ac70",
   "metadata": {},
   "outputs": [
    {
     "data": {
      "text/html": [
       "<div>\n",
       "<style scoped>\n",
       "    .dataframe tbody tr th:only-of-type {\n",
       "        vertical-align: middle;\n",
       "    }\n",
       "\n",
       "    .dataframe tbody tr th {\n",
       "        vertical-align: top;\n",
       "    }\n",
       "\n",
       "    .dataframe thead th {\n",
       "        text-align: right;\n",
       "    }\n",
       "</style>\n",
       "<table border=\"1\" class=\"dataframe\">\n",
       "  <thead>\n",
       "    <tr style=\"text-align: right;\">\n",
       "      <th></th>\n",
       "      <th>Employee_Name</th>\n",
       "      <th>Position</th>\n",
       "      <th>DOB</th>\n",
       "      <th>Sex</th>\n",
       "      <th>MaritalDesc</th>\n",
       "      <th>RaceDesc</th>\n",
       "      <th>DateofHire</th>\n",
       "      <th>DateofTermination</th>\n",
       "      <th>Department</th>\n",
       "      <th>ManagerName</th>\n",
       "      <th>RecruitmentSource</th>\n",
       "    </tr>\n",
       "  </thead>\n",
       "  <tbody>\n",
       "    <tr>\n",
       "      <th>count</th>\n",
       "      <td>218</td>\n",
       "      <td>311</td>\n",
       "      <td>280</td>\n",
       "      <td>249</td>\n",
       "      <td>311</td>\n",
       "      <td>311</td>\n",
       "      <td>311</td>\n",
       "      <td>104</td>\n",
       "      <td>311</td>\n",
       "      <td>311</td>\n",
       "      <td>311</td>\n",
       "    </tr>\n",
       "    <tr>\n",
       "      <th>unique</th>\n",
       "      <td>218</td>\n",
       "      <td>32</td>\n",
       "      <td>276</td>\n",
       "      <td>2</td>\n",
       "      <td>5</td>\n",
       "      <td>6</td>\n",
       "      <td>101</td>\n",
       "      <td>96</td>\n",
       "      <td>6</td>\n",
       "      <td>21</td>\n",
       "      <td>9</td>\n",
       "    </tr>\n",
       "    <tr>\n",
       "      <th>top</th>\n",
       "      <td>Adinolfi, Wilson  K</td>\n",
       "      <td>Production Technician I</td>\n",
       "      <td>06/14/87</td>\n",
       "      <td>F</td>\n",
       "      <td>Single</td>\n",
       "      <td>White</td>\n",
       "      <td>1/10/2011</td>\n",
       "      <td>8/19/2018</td>\n",
       "      <td>Production</td>\n",
       "      <td>Michael Albert</td>\n",
       "      <td>Indeed</td>\n",
       "    </tr>\n",
       "    <tr>\n",
       "      <th>freq</th>\n",
       "      <td>1</td>\n",
       "      <td>137</td>\n",
       "      <td>2</td>\n",
       "      <td>141</td>\n",
       "      <td>137</td>\n",
       "      <td>187</td>\n",
       "      <td>14</td>\n",
       "      <td>2</td>\n",
       "      <td>209</td>\n",
       "      <td>22</td>\n",
       "      <td>87</td>\n",
       "    </tr>\n",
       "  </tbody>\n",
       "</table>\n",
       "</div>"
      ],
      "text/plain": [
       "              Employee_Name                 Position       DOB  Sex  \\\n",
       "count                   218                      311       280  249   \n",
       "unique                  218                       32       276    2   \n",
       "top     Adinolfi, Wilson  K  Production Technician I  06/14/87    F   \n",
       "freq                      1                      137         2  141   \n",
       "\n",
       "       MaritalDesc RaceDesc DateofHire DateofTermination         Department  \\\n",
       "count          311      311        311               104                311   \n",
       "unique           5        6        101                96                  6   \n",
       "top         Single    White  1/10/2011         8/19/2018  Production          \n",
       "freq           137      187         14                 2                209   \n",
       "\n",
       "           ManagerName RecruitmentSource  \n",
       "count              311               311  \n",
       "unique              21                 9  \n",
       "top     Michael Albert            Indeed  \n",
       "freq                22                87  "
      ]
     },
     "execution_count": 8,
     "metadata": {},
     "output_type": "execute_result"
    }
   ],
   "source": [
    "df.describe(exclude='number')"
   ]
  },
  {
   "cell_type": "markdown",
   "id": "valued-proof",
   "metadata": {},
   "source": [
    "### Univariate Visualization \n",
    "* Plot two Charts\n",
    "* Provide each charts with at least two insights "
   ]
  },
  {
   "cell_type": "code",
   "execution_count": 46,
   "id": "anticipated-soldier",
   "metadata": {},
   "outputs": [
    {
     "data": {
      "image/png": "[encoded data removed]",
      "text/plain": [
       "<Figure size 640x480 with 1 Axes>"
      ]
     },
     "metadata": {},
     "output_type": "display_data"
    }
   ],
   "source": [
    "sns.countplot(data = df , y='Department' , color='blue' )\n",
    "plt.show()"
   ]
  },
  {
   "cell_type": "markdown",
   "id": "quantitative-water",
   "metadata": {},
   "source": [
    "#### most of employees work in Production department\n",
    "#### more than half of employees work in Production department"
   ]
  },
  {
   "cell_type": "code",
   "execution_count": 42,
   "id": "german-owner",
   "metadata": {
    "scrolled": false
   },
   "outputs": [
    {
     "data": {
      "image/png": "[encoded data removed]",
      "text/plain": [
       "<Figure size 640x480 with 1 Axes>"
      ]
     },
     "metadata": {},
     "output_type": "display_data"
    }
   ],
   "source": [
    "sns.histplot(data = df , x='Salary')\n",
    "plt.show()"
   ]
  },
  {
   "cell_type": "markdown",
   "id": "developing-bandwidth",
   "metadata": {},
   "source": [
    "#### most of employees receive from 50k - 75k as a salary\n",
    "#### there is a right skew"
   ]
  },
  {
   "cell_type": "markdown",
   "id": "sound-copper",
   "metadata": {},
   "source": [
    "### Bivariate Visualization \n",
    "* Plot two Charts\n",
    "* Provide each charts with at least two insights "
   ]
  },
  {
   "cell_type": "code",
   "execution_count": 102,
   "id": "surface-visiting",
   "metadata": {},
   "outputs": [
    {
     "data": {
      "text/plain": [
       "<AxesSubplot:xlabel='Salary', ylabel='Department'>"
      ]
     },
     "execution_count": 102,
     "metadata": {},
     "output_type": "execute_result"
    },
    {
     "data": {
      "image/png": "[encoded data removed]",
      "text/plain": [
       "<Figure size 640x480 with 1 Axes>"
      ]
     },
     "metadata": {},
     "output_type": "display_data"
    }
   ],
   "source": [
    "sns.barplot(data = df , x='Salary' , y='Department' , color = 'blue')"
   ]
  },
  {
   "cell_type": "markdown",
   "id": "rotary-following",
   "metadata": {},
   "source": [
    "#### Employees in IT/IS  and Software Engineering department recieve more salary than other departments\n",
    "#### Other departments recieve similar amount of salary\n",
    "#### there are missing values in Excutive Office "
   ]
  },
  {
   "cell_type": "code",
   "execution_count": 88,
   "id": "outer-grave",
   "metadata": {},
   "outputs": [
    {
     "data": {
      "text/plain": [
       "<AxesSubplot:xlabel='Count', ylabel='Department'>"
      ]
     },
     "execution_count": 88,
     "metadata": {},
     "output_type": "execute_result"
    },
    {
     "data": {
      "image/png": "[encoded data removed]",
      "text/plain": [
       "<Figure size 640x480 with 1 Axes>"
      ]
     },
     "metadata": {},
     "output_type": "display_data"
    }
   ],
   "source": [
    "sns.histplot(data=df , y= 'Department'  , hue='Sex' , multiple='stack')"
   ]
  },
  {
   "cell_type": "markdown",
   "id": "future-driving",
   "metadata": {},
   "source": [
    "#### There are similar amount of female and male emloyees but females are more a little bit\n",
    "#### The CEO is a female"
   ]
  },
  {
   "cell_type": "markdown",
   "id": "mysterious-development",
   "metadata": {},
   "source": [
    "### Multivariate Visualization \n",
    "* Plot two Charts\n",
    "* Provide each charts with at least two insights "
   ]
  },
  {
   "cell_type": "code",
   "execution_count": 101,
   "id": "dedicated-surprise",
   "metadata": {},
   "outputs": [
    {
     "data": {
      "text/plain": [
       "<AxesSubplot:xlabel='Salary', ylabel='Department'>"
      ]
     },
     "execution_count": 101,
     "metadata": {},
     "output_type": "execute_result"
    },
    {
     "data": {
      "image/png": "[encoded data removed]",
      "text/plain": [
       "<Figure size 640x480 with 1 Axes>"
      ]
     },
     "metadata": {},
     "output_type": "display_data"
    }
   ],
   "source": [
    "sns.barplot(data = df , x= 'Salary' , y='Department' , hue='MaritalDesc')"
   ]
  },
  {
   "cell_type": "markdown",
   "id": "complete-vegetarian",
   "metadata": {},
   "source": [
    "#### There only Single and  married employees in Software engineering department\n",
    "#### Only Sales and production departments has all Marital Descs"
   ]
  },
  {
   "cell_type": "code",
   "execution_count": null,
   "id": "resistant-things",
   "metadata": {},
   "outputs": [],
   "source": []
  },
  {
   "cell_type": "markdown",
   "id": "arranged-sheet",
   "metadata": {},
   "source": [
    "#### Write your insghts here"
   ]
  }
 ],
 "metadata": {
  "kernelspec": {
   "display_name": "Python 3 (ipykernel)",
   "language": "python",
   "name": "python3"
  },
  "language_info": {
   "codemirror_mode": {
    "name": "ipython",
    "version": 3
   },
   "file_extension": ".py",
   "mimetype": "text/x-python",
   "name": "python",
   "nbconvert_exporter": "python",
   "pygments_lexer": "ipython3",
   "version": "3.9.13"
  }
 },
 "nbformat": 4,
 "nbformat_minor": 5
}
